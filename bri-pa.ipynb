{
 "cells": [
  {
   "cell_type": "code",
   "execution_count": 1,
   "metadata": {
    "_cell_guid": "79c7e3d0-c299-4dcb-8224-4455121ee9b0",
    "_uuid": "d629ff2d2480ee46fbb7e2d37f6b5fab8052498a",
    "execution": {
     "iopub.execute_input": "2021-01-18T19:32:10.519179Z",
     "iopub.status.busy": "2021-01-18T19:32:10.518524Z",
     "iopub.status.idle": "2021-01-18T19:32:11.336980Z",
     "shell.execute_reply": "2021-01-18T19:32:11.335550Z"
    },
    "papermill": {
     "duration": 0.841698,
     "end_time": "2021-01-18T19:32:11.337099",
     "exception": false,
     "start_time": "2021-01-18T19:32:10.495401",
     "status": "completed"
    },
    "tags": []
   },
   "outputs": [],
   "source": [
    "import pandas as pd\n",
    "import numpy as np\n",
    "import matplotlib.pyplot as plt\n",
    "import seaborn as sns"
   ]
  },
  {
   "cell_type": "code",
   "execution_count": 2,
   "metadata": {
    "execution": {
     "iopub.execute_input": "2021-01-18T19:32:11.379119Z",
     "iopub.status.busy": "2021-01-18T19:32:11.378583Z",
     "iopub.status.idle": "2021-01-18T19:32:11.473550Z",
     "shell.execute_reply": "2021-01-18T19:32:11.473095Z"
    },
    "papermill": {
     "duration": 0.118278,
     "end_time": "2021-01-18T19:32:11.473637",
     "exception": false,
     "start_time": "2021-01-18T19:32:11.355359",
     "status": "completed"
    },
    "tags": []
   },
   "outputs": [],
   "source": [
    "train = pd.read_csv('../input/bri-data-hackathon-pa/train.csv')\n",
    "test = pd.read_csv('../input/bri-data-hackathon-pa/test.csv')"
   ]
  },
  {
   "cell_type": "code",
   "execution_count": 3,
   "metadata": {
    "execution": {
     "iopub.execute_input": "2021-01-18T19:32:11.523886Z",
     "iopub.status.busy": "2021-01-18T19:32:11.523051Z",
     "iopub.status.idle": "2021-01-18T19:32:11.531816Z",
     "shell.execute_reply": "2021-01-18T19:32:11.531385Z"
    },
    "papermill": {
     "duration": 0.040589,
     "end_time": "2021-01-18T19:32:11.531925",
     "exception": false,
     "start_time": "2021-01-18T19:32:11.491336",
     "status": "completed"
    },
    "tags": []
   },
   "outputs": [],
   "source": [
    "len_df_train=train.shape[0]\n",
    "data_train_test= pd.concat([train, test], sort=False)"
   ]
  },
  {
   "cell_type": "code",
   "execution_count": 4,
   "metadata": {
    "execution": {
     "iopub.execute_input": "2021-01-18T19:32:11.581531Z",
     "iopub.status.busy": "2021-01-18T19:32:11.580707Z",
     "iopub.status.idle": "2021-01-18T19:32:11.609952Z",
     "shell.execute_reply": "2021-01-18T19:32:11.610346Z"
    },
    "papermill": {
     "duration": 0.060647,
     "end_time": "2021-01-18T19:32:11.610448",
     "exception": false,
     "start_time": "2021-01-18T19:32:11.549801",
     "status": "completed"
    },
    "tags": []
   },
   "outputs": [
    {
     "name": "stdout",
     "output_type": "stream",
     "text": [
      "Best Performance                         34.98\n",
      "Last_achievement_%                        0.01\n",
      "Achievement_above_100%_during3quartal     0.01\n",
      "number_of_dependences                     0.00\n",
      "job_duration_in_current_job_level         0.00\n",
      "person_level                              0.00\n",
      "job_duration_in_current_person_level      0.00\n",
      "job_duration_in_current_branch            0.00\n",
      "Employee_type                             0.00\n",
      "gender                                    0.00\n",
      "age                                       0.00\n",
      "marital_status_maried(Y/N)                0.00\n",
      "Education_level                           0.00\n",
      "GPA                                       0.00\n",
      "year_graduated                            0.00\n",
      "job_duration_from_training                0.00\n",
      "branch_rotation                           0.00\n",
      "job_rotation                              0.00\n",
      "assign_of_otherposition                   0.00\n",
      "annual leave                              0.00\n",
      "sick_leaves                               0.00\n",
      "job_level                                 0.00\n",
      "dtype: float64\n"
     ]
    }
   ],
   "source": [
    "def missing(dff):\n",
    "    print (round((dff.isnull().sum() * 100/ len(dff)),2).sort_values(ascending=False))\n",
    "\n",
    "missing(data_train_test)"
   ]
  },
  {
   "cell_type": "code",
   "execution_count": 5,
   "metadata": {
    "execution": {
     "iopub.execute_input": "2021-01-18T19:32:11.652499Z",
     "iopub.status.busy": "2021-01-18T19:32:11.651607Z",
     "iopub.status.idle": "2021-01-18T19:32:11.662102Z",
     "shell.execute_reply": "2021-01-18T19:32:11.661676Z"
    },
    "papermill": {
     "duration": 0.033305,
     "end_time": "2021-01-18T19:32:11.662196",
     "exception": false,
     "start_time": "2021-01-18T19:32:11.628891",
     "status": "completed"
    },
    "tags": []
   },
   "outputs": [],
   "source": [
    "data_train_test.drop(['GPA','Last_achievement_%'],axis=1,inplace=True)\n",
    "data_train_test.drop(['person_level','Education_level'],axis=1,inplace=True)"
   ]
  },
  {
   "cell_type": "code",
   "execution_count": 6,
   "metadata": {
    "execution": {
     "iopub.execute_input": "2021-01-18T19:32:11.703366Z",
     "iopub.status.busy": "2021-01-18T19:32:11.702856Z",
     "iopub.status.idle": "2021-01-18T19:32:11.708404Z",
     "shell.execute_reply": "2021-01-18T19:32:11.707870Z"
    },
    "papermill": {
     "duration": 0.02796,
     "end_time": "2021-01-18T19:32:11.708487",
     "exception": false,
     "start_time": "2021-01-18T19:32:11.680527",
     "status": "completed"
    },
    "tags": []
   },
   "outputs": [],
   "source": [
    "for col in [\"gender\"]:\n",
    "    data_train_test[col]= data_train_test[col].map({2: 'male',\n",
    "                                  1:'female'})"
   ]
  },
  {
   "cell_type": "code",
   "execution_count": 7,
   "metadata": {
    "execution": {
     "iopub.execute_input": "2021-01-18T19:32:11.751343Z",
     "iopub.status.busy": "2021-01-18T19:32:11.750662Z",
     "iopub.status.idle": "2021-01-18T19:32:11.753558Z",
     "shell.execute_reply": "2021-01-18T19:32:11.753152Z"
    },
    "papermill": {
     "duration": 0.026185,
     "end_time": "2021-01-18T19:32:11.753640",
     "exception": false,
     "start_time": "2021-01-18T19:32:11.727455",
     "status": "completed"
    },
    "tags": []
   },
   "outputs": [],
   "source": [
    "# Select categorical columns with relatively low cardinality (convenient but arbitrary)\n",
    "categorical_cols = [cname for cname in data_train_test.columns if\n",
    "                    data_train_test[cname].dtype == \"object\"]\n",
    "\n",
    "# Select numerical columns\n",
    "numerical_cols = [cname for cname in data_train_test.columns if \n",
    "                data_train_test[cname].dtype in ['int64', 'float64']]"
   ]
  },
  {
   "cell_type": "code",
   "execution_count": 8,
   "metadata": {
    "execution": {
     "iopub.execute_input": "2021-01-18T19:32:11.796465Z",
     "iopub.status.busy": "2021-01-18T19:32:11.795613Z",
     "iopub.status.idle": "2021-01-18T19:32:11.819744Z",
     "shell.execute_reply": "2021-01-18T19:32:11.820270Z"
    },
    "papermill": {
     "duration": 0.048091,
     "end_time": "2021-01-18T19:32:11.820365",
     "exception": false,
     "start_time": "2021-01-18T19:32:11.772274",
     "status": "completed"
    },
    "tags": []
   },
   "outputs": [],
   "source": [
    "for i in numerical_cols:\n",
    "    data_train_test[i]=data_train_test[i].fillna(data_train_test[i].mean())\n",
    "for i in categorical_cols:\n",
    "    data_train_test[i]=data_train_test[i].fillna(data_train_test[i].mode()[0])"
   ]
  },
  {
   "cell_type": "code",
   "execution_count": 9,
   "metadata": {
    "execution": {
     "iopub.execute_input": "2021-01-18T19:32:11.860874Z",
     "iopub.status.busy": "2021-01-18T19:32:11.860140Z",
     "iopub.status.idle": "2021-01-18T19:32:11.863139Z",
     "shell.execute_reply": "2021-01-18T19:32:11.862705Z"
    },
    "papermill": {
     "duration": 0.02431,
     "end_time": "2021-01-18T19:32:11.863224",
     "exception": false,
     "start_time": "2021-01-18T19:32:11.838914",
     "status": "completed"
    },
    "tags": []
   },
   "outputs": [],
   "source": [
    "# # Get number of unique entries in each column with categorical data\n",
    "# object_nunique = list(map(lambda col: data_train_test[col].nunique(), categorical_cols))\n",
    "# d = dict(zip(categorical_cols, object_nunique))\n",
    "\n",
    "# # Print number of unique entries by column, in ascending order\n",
    "# sorted(d.items(), key=lambda x: x[1])"
   ]
  },
  {
   "cell_type": "code",
   "execution_count": 10,
   "metadata": {
    "execution": {
     "iopub.execute_input": "2021-01-18T19:32:11.905996Z",
     "iopub.status.busy": "2021-01-18T19:32:11.905412Z",
     "iopub.status.idle": "2021-01-18T19:32:12.000113Z",
     "shell.execute_reply": "2021-01-18T19:32:11.999642Z"
    },
    "papermill": {
     "duration": 0.118341,
     "end_time": "2021-01-18T19:32:12.000207",
     "exception": false,
     "start_time": "2021-01-18T19:32:11.881866",
     "status": "completed"
    },
    "tags": []
   },
   "outputs": [],
   "source": [
    "from sklearn.preprocessing import OneHotEncoder\n",
    "\n",
    "# Apply one-hot encoder to each column with categorical data\n",
    "OH_encoder = OneHotEncoder(handle_unknown='ignore', sparse=False)\n",
    "OH_cols = pd.DataFrame(OH_encoder.fit_transform(data_train_test[categorical_cols]))\n",
    "\n",
    "# One-hot encoding removed index; put it back\n",
    "OH_cols.index = data_train_test.index\n",
    "\n",
    "\n",
    "# Remove categorical columns (will replace with one-hot encoding)\n",
    "num_X = data_train_test.drop(categorical_cols, axis=1)\n",
    "\n",
    "# Add one-hot encoded columns to numerical features\n",
    "data_train_test = pd.concat([num_X, OH_cols], axis=1)"
   ]
  },
  {
   "cell_type": "code",
   "execution_count": 11,
   "metadata": {
    "execution": {
     "iopub.execute_input": "2021-01-18T19:32:12.044003Z",
     "iopub.status.busy": "2021-01-18T19:32:12.043096Z",
     "iopub.status.idle": "2021-01-18T19:32:12.056727Z",
     "shell.execute_reply": "2021-01-18T19:32:12.056100Z"
    },
    "papermill": {
     "duration": 0.037937,
     "end_time": "2021-01-18T19:32:12.056869",
     "exception": false,
     "start_time": "2021-01-18T19:32:12.018932",
     "status": "completed"
    },
    "tags": []
   },
   "outputs": [
    {
     "name": "stderr",
     "output_type": "stream",
     "text": [
      "/opt/conda/lib/python3.7/site-packages/pandas/core/frame.py:4174: SettingWithCopyWarning: \n",
      "A value is trying to be set on a copy of a slice from a DataFrame\n",
      "\n",
      "See the caveats in the documentation: https://pandas.pydata.org/pandas-docs/stable/user_guide/indexing.html#returning-a-view-versus-a-copy\n",
      "  errors=errors,\n"
     ]
    }
   ],
   "source": [
    "#split the data again\n",
    "X_train_full= data_train_test[:len_df_train]\n",
    "X_test_full= data_train_test[len_df_train:]\n",
    "y_train = X_train_full['Best Performance']\n",
    "X_train_full.drop(['Best Performance'],axis=1,inplace=True)\n",
    "X_test_full.drop(['Best Performance'],axis=1,inplace=True)"
   ]
  },
  {
   "cell_type": "code",
   "execution_count": 12,
   "metadata": {
    "execution": {
     "iopub.execute_input": "2021-01-18T19:32:12.099882Z",
     "iopub.status.busy": "2021-01-18T19:32:12.099253Z",
     "iopub.status.idle": "2021-01-18T19:32:12.102292Z",
     "shell.execute_reply": "2021-01-18T19:32:12.101736Z"
    },
    "papermill": {
     "duration": 0.025147,
     "end_time": "2021-01-18T19:32:12.102373",
     "exception": false,
     "start_time": "2021-01-18T19:32:12.077226",
     "status": "completed"
    },
    "tags": []
   },
   "outputs": [],
   "source": [
    "# X_train_full.drop([2435,4383,5042,5691,6905,8799,8967,9285,9428,10126,10617], axis=0)"
   ]
  },
  {
   "cell_type": "code",
   "execution_count": 13,
   "metadata": {
    "execution": {
     "iopub.execute_input": "2021-01-18T19:32:12.144011Z",
     "iopub.status.busy": "2021-01-18T19:32:12.143406Z",
     "iopub.status.idle": "2021-01-18T19:32:12.146317Z",
     "shell.execute_reply": "2021-01-18T19:32:12.145843Z"
    },
    "papermill": {
     "duration": 0.024966,
     "end_time": "2021-01-18T19:32:12.146399",
     "exception": false,
     "start_time": "2021-01-18T19:32:12.121433",
     "status": "completed"
    },
    "tags": []
   },
   "outputs": [],
   "source": [
    "# X_train_full.drop([10334,6261], axis=0)"
   ]
  },
  {
   "cell_type": "code",
   "execution_count": 14,
   "metadata": {
    "execution": {
     "iopub.execute_input": "2021-01-18T19:32:12.189055Z",
     "iopub.status.busy": "2021-01-18T19:32:12.188508Z",
     "iopub.status.idle": "2021-01-18T19:32:16.848394Z",
     "shell.execute_reply": "2021-01-18T19:32:16.847906Z"
    },
    "papermill": {
     "duration": 4.682372,
     "end_time": "2021-01-18T19:32:16.848494",
     "exception": false,
     "start_time": "2021-01-18T19:32:12.166122",
     "status": "completed"
    },
    "tags": []
   },
   "outputs": [],
   "source": [
    "import xgboost as xgb\n",
    "from xgboost import XGBClassifier"
   ]
  },
  {
   "cell_type": "code",
   "execution_count": 15,
   "metadata": {
    "execution": {
     "iopub.execute_input": "2021-01-18T19:32:16.899938Z",
     "iopub.status.busy": "2021-01-18T19:32:16.899233Z",
     "iopub.status.idle": "2021-01-18T19:32:16.902256Z",
     "shell.execute_reply": "2021-01-18T19:32:16.901826Z"
    },
    "papermill": {
     "duration": 0.032828,
     "end_time": "2021-01-18T19:32:16.902345",
     "exception": false,
     "start_time": "2021-01-18T19:32:16.869517",
     "status": "completed"
    },
    "tags": []
   },
   "outputs": [],
   "source": [
    "## Hyper Parameter Optimization\n",
    "\n",
    "params={\n",
    " \"n_estimators\"     : np.arange(0,1500),\n",
    " \"learning_rate\"    : [0.05, 0.10, 0.15, 0.20, 0.25, 0.30, 0.35 ] ,\n",
    " \"max_depth\"        : [ 3, 4, 5, 6, 8, 9, 10, 11, 12, 15],\n",
    " \"min_child_weight\" : [ 1, 3, 5, 7 ],\n",
    " \"gamma\"            : [ 0.0, 0.1, 0.2 , 0.3, 0.4 ],\n",
    " \"colsample_bytree\" : [ 0.3, 0.4, 0.5 , 0.7 ],\n",
    "    \n",
    "}"
   ]
  },
  {
   "cell_type": "code",
   "execution_count": 16,
   "metadata": {
    "execution": {
     "iopub.execute_input": "2021-01-18T19:32:16.946160Z",
     "iopub.status.busy": "2021-01-18T19:32:16.945449Z",
     "iopub.status.idle": "2021-01-18T19:32:16.948452Z",
     "shell.execute_reply": "2021-01-18T19:32:16.948041Z"
    },
    "papermill": {
     "duration": 0.025956,
     "end_time": "2021-01-18T19:32:16.948536",
     "exception": false,
     "start_time": "2021-01-18T19:32:16.922580",
     "status": "completed"
    },
    "tags": []
   },
   "outputs": [],
   "source": [
    "from sklearn.model_selection import RandomizedSearchCV, GridSearchCV"
   ]
  },
  {
   "cell_type": "code",
   "execution_count": 17,
   "metadata": {
    "execution": {
     "iopub.execute_input": "2021-01-18T19:32:16.991977Z",
     "iopub.status.busy": "2021-01-18T19:32:16.991328Z",
     "iopub.status.idle": "2021-01-18T19:32:16.994388Z",
     "shell.execute_reply": "2021-01-18T19:32:16.993915Z"
    },
    "papermill": {
     "duration": 0.025755,
     "end_time": "2021-01-18T19:32:16.994466",
     "exception": false,
     "start_time": "2021-01-18T19:32:16.968711",
     "status": "completed"
    },
    "tags": []
   },
   "outputs": [],
   "source": [
    "# def timer(start_time=None):\n",
    "#     if not start_time:\n",
    "#         start_time = datetime.now()\n",
    "#         return start_time\n",
    "#     elif start_time:\n",
    "#         thour, temp_sec = divmod((datetime.now() - start_time).total_seconds(), 3600)\n",
    "#         tmin, tsec = divmod(temp_sec, 60)\n",
    "#         print('\\n Time taken: %i hours %i minutes and %s seconds.' % (thour, tmin, round(tsec, 2)))"
   ]
  },
  {
   "cell_type": "code",
   "execution_count": 18,
   "metadata": {
    "execution": {
     "iopub.execute_input": "2021-01-18T19:32:17.037786Z",
     "iopub.status.busy": "2021-01-18T19:32:17.036988Z",
     "iopub.status.idle": "2021-01-18T19:32:17.039329Z",
     "shell.execute_reply": "2021-01-18T19:32:17.039719Z"
    },
    "papermill": {
     "duration": 0.025748,
     "end_time": "2021-01-18T19:32:17.039831",
     "exception": false,
     "start_time": "2021-01-18T19:32:17.014083",
     "status": "completed"
    },
    "tags": []
   },
   "outputs": [],
   "source": [
    "classifier=xgb.XGBClassifier( objective ='binary:logistic',\n",
    "    eval_metric='auc')"
   ]
  },
  {
   "cell_type": "code",
   "execution_count": 19,
   "metadata": {
    "execution": {
     "iopub.execute_input": "2021-01-18T19:32:17.083971Z",
     "iopub.status.busy": "2021-01-18T19:32:17.083322Z",
     "iopub.status.idle": "2021-01-18T19:32:17.085881Z",
     "shell.execute_reply": "2021-01-18T19:32:17.086319Z"
    },
    "papermill": {
     "duration": 0.02682,
     "end_time": "2021-01-18T19:32:17.086410",
     "exception": false,
     "start_time": "2021-01-18T19:32:17.059590",
     "status": "completed"
    },
    "tags": []
   },
   "outputs": [],
   "source": [
    "random_search=RandomizedSearchCV(classifier,param_distributions=params,n_iter=5,scoring='roc_auc',n_jobs=-1,cv=5,verbose=3)"
   ]
  },
  {
   "cell_type": "code",
   "execution_count": 20,
   "metadata": {
    "execution": {
     "iopub.execute_input": "2021-01-18T19:32:17.130538Z",
     "iopub.status.busy": "2021-01-18T19:32:17.129750Z",
     "iopub.status.idle": "2021-01-18T19:33:35.060272Z",
     "shell.execute_reply": "2021-01-18T19:33:35.060750Z"
    },
    "papermill": {
     "duration": 77.954597,
     "end_time": "2021-01-18T19:33:35.060928",
     "exception": false,
     "start_time": "2021-01-18T19:32:17.106331",
     "status": "completed"
    },
    "tags": []
   },
   "outputs": [
    {
     "name": "stdout",
     "output_type": "stream",
     "text": [
      "Fitting 5 folds for each of 5 candidates, totalling 25 fits\n"
     ]
    },
    {
     "name": "stderr",
     "output_type": "stream",
     "text": [
      "[Parallel(n_jobs=-1)]: Using backend LokyBackend with 2 concurrent workers.\n",
      "[Parallel(n_jobs=-1)]: Done  25 out of  25 | elapsed:  1.2min finished\n"
     ]
    },
    {
     "data": {
      "text/plain": [
       "RandomizedSearchCV(cv=5,\n",
       "                   estimator=XGBClassifier(base_score=None, booster=None,\n",
       "                                           colsample_bylevel=None,\n",
       "                                           colsample_bynode=None,\n",
       "                                           colsample_bytree=None,\n",
       "                                           eval_metric='auc', gamma=None,\n",
       "                                           gpu_id=None, importance_type='gain',\n",
       "                                           interaction_constraints=None,\n",
       "                                           learning_rate=None,\n",
       "                                           max_delta_step=None, max_depth=None,\n",
       "                                           min_child_weight=None, missing=nan,\n",
       "                                           monotone_constraints=None...\n",
       "                                           subsample=None, tree_method=None,\n",
       "                                           validate_parameters=None,\n",
       "                                           verbosity=None),\n",
       "                   n_iter=5, n_jobs=-1,\n",
       "                   param_distributions={'colsample_bytree': [0.3, 0.4, 0.5,\n",
       "                                                             0.7],\n",
       "                                        'gamma': [0.0, 0.1, 0.2, 0.3, 0.4],\n",
       "                                        'learning_rate': [0.05, 0.1, 0.15, 0.2,\n",
       "                                                          0.25, 0.3, 0.35],\n",
       "                                        'max_depth': [3, 4, 5, 6, 8, 9, 10, 11,\n",
       "                                                      12, 15],\n",
       "                                        'min_child_weight': [1, 3, 5, 7],\n",
       "                                        'n_estimators': array([   0,    1,    2, ..., 1497, 1498, 1499])},\n",
       "                   scoring='roc_auc', verbose=3)"
      ]
     },
     "execution_count": 20,
     "metadata": {},
     "output_type": "execute_result"
    }
   ],
   "source": [
    "random_search.fit(X_train_full,y_train)"
   ]
  },
  {
   "cell_type": "code",
   "execution_count": 21,
   "metadata": {
    "execution": {
     "iopub.execute_input": "2021-01-18T19:33:35.127029Z",
     "iopub.status.busy": "2021-01-18T19:33:35.126215Z",
     "iopub.status.idle": "2021-01-18T19:33:35.134055Z",
     "shell.execute_reply": "2021-01-18T19:33:35.134900Z"
    },
    "papermill": {
     "duration": 0.043756,
     "end_time": "2021-01-18T19:33:35.135023",
     "exception": false,
     "start_time": "2021-01-18T19:33:35.091267",
     "status": "completed"
    },
    "tags": []
   },
   "outputs": [
    {
     "data": {
      "text/plain": [
       "XGBClassifier(base_score=0.5, booster='gbtree', colsample_bylevel=1,\n",
       "              colsample_bynode=1, colsample_bytree=0.3, eval_metric='auc',\n",
       "              gamma=0.3, gpu_id=-1, importance_type='gain',\n",
       "              interaction_constraints='', learning_rate=0.1, max_delta_step=0,\n",
       "              max_depth=3, min_child_weight=5, missing=nan,\n",
       "              monotone_constraints='()', n_estimators=1202, n_jobs=0,\n",
       "              num_parallel_tree=1, random_state=0, reg_alpha=0, reg_lambda=1,\n",
       "              scale_pos_weight=1, subsample=1, tree_method='exact',\n",
       "              validate_parameters=1, verbosity=None)"
      ]
     },
     "execution_count": 21,
     "metadata": {},
     "output_type": "execute_result"
    }
   ],
   "source": [
    "random_search.best_estimator_"
   ]
  },
  {
   "cell_type": "code",
   "execution_count": 22,
   "metadata": {
    "execution": {
     "iopub.execute_input": "2021-01-18T19:33:35.204366Z",
     "iopub.status.busy": "2021-01-18T19:33:35.203499Z",
     "iopub.status.idle": "2021-01-18T19:33:35.205679Z",
     "shell.execute_reply": "2021-01-18T19:33:35.205077Z"
    },
    "papermill": {
     "duration": 0.038797,
     "end_time": "2021-01-18T19:33:35.205771",
     "exception": false,
     "start_time": "2021-01-18T19:33:35.166974",
     "status": "completed"
    },
    "tags": []
   },
   "outputs": [],
   "source": [
    "# from bayes_opt import BayesianOptimization\n",
    "# import warnings\n",
    "# warnings.filterwarnings('ignore')"
   ]
  },
  {
   "cell_type": "code",
   "execution_count": 23,
   "metadata": {
    "execution": {
     "iopub.execute_input": "2021-01-18T19:33:35.266974Z",
     "iopub.status.busy": "2021-01-18T19:33:35.265154Z",
     "iopub.status.idle": "2021-01-18T19:33:35.267529Z",
     "shell.execute_reply": "2021-01-18T19:33:35.268070Z"
    },
    "papermill": {
     "duration": 0.031885,
     "end_time": "2021-01-18T19:33:35.268173",
     "exception": false,
     "start_time": "2021-01-18T19:33:35.236288",
     "status": "completed"
    },
    "tags": []
   },
   "outputs": [],
   "source": [
    "# optimizer = BayesianOptimization(classifier, params, random_state=1)"
   ]
  },
  {
   "cell_type": "code",
   "execution_count": 24,
   "metadata": {
    "execution": {
     "iopub.execute_input": "2021-01-18T19:33:35.321211Z",
     "iopub.status.busy": "2021-01-18T19:33:35.320550Z",
     "iopub.status.idle": "2021-01-18T19:33:35.324600Z",
     "shell.execute_reply": "2021-01-18T19:33:35.324159Z"
    },
    "papermill": {
     "duration": 0.033458,
     "end_time": "2021-01-18T19:33:35.324680",
     "exception": false,
     "start_time": "2021-01-18T19:33:35.291222",
     "status": "completed"
    },
    "tags": []
   },
   "outputs": [],
   "source": [
    "model = XGBClassifier(base_score=0.5, booster='gbtree', colsample_bylevel=1,\n",
    "              colsample_bynode=1, colsample_bytree=0.5, eval_metric='auc',\n",
    "              gamma=0.2, gpu_id=-1, importance_type='gain',\n",
    "              interaction_constraints='', learning_rate=0.15, max_delta_step=0,\n",
    "              max_depth=4, min_child_weight=1,\n",
    "              monotone_constraints='()', n_estimators=360, n_jobs=0,\n",
    "              num_parallel_tree=1, random_state=0, reg_alpha=0, reg_lambda=1,\n",
    "              scale_pos_weight=1, subsample=1, tree_method='exact',\n",
    "              validate_parameters=1, verbosity=None)"
   ]
  },
  {
   "cell_type": "code",
   "execution_count": 25,
   "metadata": {
    "execution": {
     "iopub.execute_input": "2021-01-18T19:33:35.377593Z",
     "iopub.status.busy": "2021-01-18T19:33:35.376690Z",
     "iopub.status.idle": "2021-01-18T19:33:40.537119Z",
     "shell.execute_reply": "2021-01-18T19:33:40.537861Z"
    },
    "papermill": {
     "duration": 5.189755,
     "end_time": "2021-01-18T19:33:40.538052",
     "exception": false,
     "start_time": "2021-01-18T19:33:35.348297",
     "status": "completed"
    },
    "tags": []
   },
   "outputs": [
    {
     "name": "stdout",
     "output_type": "stream",
     "text": [
      "Average MAE score: 0.539351164117138\n"
     ]
    }
   ],
   "source": [
    "from sklearn.model_selection import cross_val_score\n",
    "scores = cross_val_score(model, X_train_full, y_train, cv=4, scoring=\"roc_auc\", n_jobs=-1)\n",
    "\n",
    "print(\"Average MAE score:\", scores.mean())"
   ]
  },
  {
   "cell_type": "code",
   "execution_count": 26,
   "metadata": {
    "execution": {
     "iopub.execute_input": "2021-01-18T19:33:40.589287Z",
     "iopub.status.busy": "2021-01-18T19:33:40.588724Z",
     "iopub.status.idle": "2021-01-18T19:33:40.624090Z",
     "shell.execute_reply": "2021-01-18T19:33:40.624480Z"
    },
    "papermill": {
     "duration": 0.062698,
     "end_time": "2021-01-18T19:33:40.624597",
     "exception": false,
     "start_time": "2021-01-18T19:33:40.561899",
     "status": "completed"
    },
    "tags": []
   },
   "outputs": [
    {
     "data": {
      "text/html": [
       "<div>\n",
       "<style scoped>\n",
       "    .dataframe tbody tr th:only-of-type {\n",
       "        vertical-align: middle;\n",
       "    }\n",
       "\n",
       "    .dataframe tbody tr th {\n",
       "        vertical-align: top;\n",
       "    }\n",
       "\n",
       "    .dataframe thead th {\n",
       "        text-align: right;\n",
       "    }\n",
       "</style>\n",
       "<table border=\"1\" class=\"dataframe\">\n",
       "  <thead>\n",
       "    <tr style=\"text-align: right;\">\n",
       "      <th></th>\n",
       "      <th>job_duration_in_current_job_level</th>\n",
       "      <th>job_duration_in_current_person_level</th>\n",
       "      <th>job_duration_in_current_branch</th>\n",
       "      <th>age</th>\n",
       "      <th>number_of_dependences</th>\n",
       "      <th>year_graduated</th>\n",
       "      <th>job_duration_from_training</th>\n",
       "      <th>branch_rotation</th>\n",
       "      <th>job_rotation</th>\n",
       "      <th>assign_of_otherposition</th>\n",
       "      <th>...</th>\n",
       "      <th>1</th>\n",
       "      <th>2</th>\n",
       "      <th>3</th>\n",
       "      <th>4</th>\n",
       "      <th>5</th>\n",
       "      <th>6</th>\n",
       "      <th>7</th>\n",
       "      <th>8</th>\n",
       "      <th>9</th>\n",
       "      <th>10</th>\n",
       "    </tr>\n",
       "  </thead>\n",
       "  <tbody>\n",
       "    <tr>\n",
       "      <th>0</th>\n",
       "      <td>1.352775</td>\n",
       "      <td>1.352775</td>\n",
       "      <td>1.732051</td>\n",
       "      <td>1985</td>\n",
       "      <td>1</td>\n",
       "      <td>2011</td>\n",
       "      <td>4</td>\n",
       "      <td>2</td>\n",
       "      <td>3</td>\n",
       "      <td>2</td>\n",
       "      <td>...</td>\n",
       "      <td>1.0</td>\n",
       "      <td>0.0</td>\n",
       "      <td>0.0</td>\n",
       "      <td>1.0</td>\n",
       "      <td>0.0</td>\n",
       "      <td>0.0</td>\n",
       "      <td>0.0</td>\n",
       "      <td>1.0</td>\n",
       "      <td>0.0</td>\n",
       "      <td>1.0</td>\n",
       "    </tr>\n",
       "    <tr>\n",
       "      <th>1</th>\n",
       "      <td>1.292285</td>\n",
       "      <td>1.292285</td>\n",
       "      <td>1.039230</td>\n",
       "      <td>1989</td>\n",
       "      <td>0</td>\n",
       "      <td>2007</td>\n",
       "      <td>4</td>\n",
       "      <td>4</td>\n",
       "      <td>3</td>\n",
       "      <td>0</td>\n",
       "      <td>...</td>\n",
       "      <td>1.0</td>\n",
       "      <td>0.0</td>\n",
       "      <td>0.0</td>\n",
       "      <td>1.0</td>\n",
       "      <td>0.0</td>\n",
       "      <td>0.0</td>\n",
       "      <td>0.0</td>\n",
       "      <td>1.0</td>\n",
       "      <td>0.0</td>\n",
       "      <td>1.0</td>\n",
       "    </tr>\n",
       "    <tr>\n",
       "      <th>2</th>\n",
       "      <td>2.565151</td>\n",
       "      <td>2.308679</td>\n",
       "      <td>1.780449</td>\n",
       "      <td>1970</td>\n",
       "      <td>1</td>\n",
       "      <td>1989</td>\n",
       "      <td>28</td>\n",
       "      <td>10</td>\n",
       "      <td>9</td>\n",
       "      <td>6</td>\n",
       "      <td>...</td>\n",
       "      <td>0.0</td>\n",
       "      <td>1.0</td>\n",
       "      <td>0.0</td>\n",
       "      <td>0.0</td>\n",
       "      <td>0.0</td>\n",
       "      <td>1.0</td>\n",
       "      <td>1.0</td>\n",
       "      <td>0.0</td>\n",
       "      <td>0.0</td>\n",
       "      <td>1.0</td>\n",
       "    </tr>\n",
       "    <tr>\n",
       "      <th>3</th>\n",
       "      <td>2.828427</td>\n",
       "      <td>1.000000</td>\n",
       "      <td>1.385641</td>\n",
       "      <td>1967</td>\n",
       "      <td>2</td>\n",
       "      <td>1987</td>\n",
       "      <td>29</td>\n",
       "      <td>11</td>\n",
       "      <td>6</td>\n",
       "      <td>0</td>\n",
       "      <td>...</td>\n",
       "      <td>0.0</td>\n",
       "      <td>1.0</td>\n",
       "      <td>0.0</td>\n",
       "      <td>1.0</td>\n",
       "      <td>0.0</td>\n",
       "      <td>0.0</td>\n",
       "      <td>0.0</td>\n",
       "      <td>1.0</td>\n",
       "      <td>0.0</td>\n",
       "      <td>1.0</td>\n",
       "    </tr>\n",
       "    <tr>\n",
       "      <th>4</th>\n",
       "      <td>2.828427</td>\n",
       "      <td>2.828427</td>\n",
       "      <td>0.707107</td>\n",
       "      <td>1965</td>\n",
       "      <td>3</td>\n",
       "      <td>1985</td>\n",
       "      <td>30</td>\n",
       "      <td>9</td>\n",
       "      <td>8</td>\n",
       "      <td>2</td>\n",
       "      <td>...</td>\n",
       "      <td>0.0</td>\n",
       "      <td>1.0</td>\n",
       "      <td>0.0</td>\n",
       "      <td>1.0</td>\n",
       "      <td>0.0</td>\n",
       "      <td>0.0</td>\n",
       "      <td>0.0</td>\n",
       "      <td>1.0</td>\n",
       "      <td>0.0</td>\n",
       "      <td>1.0</td>\n",
       "    </tr>\n",
       "    <tr>\n",
       "      <th>...</th>\n",
       "      <td>...</td>\n",
       "      <td>...</td>\n",
       "      <td>...</td>\n",
       "      <td>...</td>\n",
       "      <td>...</td>\n",
       "      <td>...</td>\n",
       "      <td>...</td>\n",
       "      <td>...</td>\n",
       "      <td>...</td>\n",
       "      <td>...</td>\n",
       "      <td>...</td>\n",
       "      <td>...</td>\n",
       "      <td>...</td>\n",
       "      <td>...</td>\n",
       "      <td>...</td>\n",
       "      <td>...</td>\n",
       "      <td>...</td>\n",
       "      <td>...</td>\n",
       "      <td>...</td>\n",
       "      <td>...</td>\n",
       "      <td>...</td>\n",
       "    </tr>\n",
       "    <tr>\n",
       "      <th>11148</th>\n",
       "      <td>1.256981</td>\n",
       "      <td>1.256981</td>\n",
       "      <td>1.224745</td>\n",
       "      <td>1986</td>\n",
       "      <td>1</td>\n",
       "      <td>2016</td>\n",
       "      <td>4</td>\n",
       "      <td>3</td>\n",
       "      <td>3</td>\n",
       "      <td>0</td>\n",
       "      <td>...</td>\n",
       "      <td>1.0</td>\n",
       "      <td>0.0</td>\n",
       "      <td>0.0</td>\n",
       "      <td>1.0</td>\n",
       "      <td>0.0</td>\n",
       "      <td>0.0</td>\n",
       "      <td>0.0</td>\n",
       "      <td>1.0</td>\n",
       "      <td>0.0</td>\n",
       "      <td>1.0</td>\n",
       "    </tr>\n",
       "    <tr>\n",
       "      <th>11149</th>\n",
       "      <td>1.385641</td>\n",
       "      <td>1.385641</td>\n",
       "      <td>1.802776</td>\n",
       "      <td>1988</td>\n",
       "      <td>2</td>\n",
       "      <td>2015</td>\n",
       "      <td>3</td>\n",
       "      <td>1</td>\n",
       "      <td>2</td>\n",
       "      <td>0</td>\n",
       "      <td>...</td>\n",
       "      <td>1.0</td>\n",
       "      <td>0.0</td>\n",
       "      <td>0.0</td>\n",
       "      <td>0.0</td>\n",
       "      <td>1.0</td>\n",
       "      <td>0.0</td>\n",
       "      <td>1.0</td>\n",
       "      <td>0.0</td>\n",
       "      <td>0.0</td>\n",
       "      <td>1.0</td>\n",
       "    </tr>\n",
       "    <tr>\n",
       "      <th>11150</th>\n",
       "      <td>1.256981</td>\n",
       "      <td>1.256981</td>\n",
       "      <td>1.385641</td>\n",
       "      <td>1991</td>\n",
       "      <td>0</td>\n",
       "      <td>2017</td>\n",
       "      <td>2</td>\n",
       "      <td>1</td>\n",
       "      <td>2</td>\n",
       "      <td>0</td>\n",
       "      <td>...</td>\n",
       "      <td>1.0</td>\n",
       "      <td>0.0</td>\n",
       "      <td>0.0</td>\n",
       "      <td>0.0</td>\n",
       "      <td>1.0</td>\n",
       "      <td>0.0</td>\n",
       "      <td>0.0</td>\n",
       "      <td>1.0</td>\n",
       "      <td>0.0</td>\n",
       "      <td>1.0</td>\n",
       "    </tr>\n",
       "    <tr>\n",
       "      <th>11151</th>\n",
       "      <td>1.118034</td>\n",
       "      <td>1.118034</td>\n",
       "      <td>0.000000</td>\n",
       "      <td>1987</td>\n",
       "      <td>1</td>\n",
       "      <td>2012</td>\n",
       "      <td>5</td>\n",
       "      <td>5</td>\n",
       "      <td>4</td>\n",
       "      <td>0</td>\n",
       "      <td>...</td>\n",
       "      <td>1.0</td>\n",
       "      <td>0.0</td>\n",
       "      <td>0.0</td>\n",
       "      <td>1.0</td>\n",
       "      <td>0.0</td>\n",
       "      <td>0.0</td>\n",
       "      <td>1.0</td>\n",
       "      <td>0.0</td>\n",
       "      <td>0.0</td>\n",
       "      <td>1.0</td>\n",
       "    </tr>\n",
       "    <tr>\n",
       "      <th>11152</th>\n",
       "      <td>2.828427</td>\n",
       "      <td>2.121320</td>\n",
       "      <td>1.473092</td>\n",
       "      <td>1980</td>\n",
       "      <td>2</td>\n",
       "      <td>2009</td>\n",
       "      <td>14</td>\n",
       "      <td>5</td>\n",
       "      <td>7</td>\n",
       "      <td>0</td>\n",
       "      <td>...</td>\n",
       "      <td>1.0</td>\n",
       "      <td>0.0</td>\n",
       "      <td>0.0</td>\n",
       "      <td>0.0</td>\n",
       "      <td>1.0</td>\n",
       "      <td>0.0</td>\n",
       "      <td>0.0</td>\n",
       "      <td>1.0</td>\n",
       "      <td>0.0</td>\n",
       "      <td>1.0</td>\n",
       "    </tr>\n",
       "  </tbody>\n",
       "</table>\n",
       "<p>11151 rows × 24 columns</p>\n",
       "</div>"
      ],
      "text/plain": [
       "       job_duration_in_current_job_level  \\\n",
       "0                               1.352775   \n",
       "1                               1.292285   \n",
       "2                               2.565151   \n",
       "3                               2.828427   \n",
       "4                               2.828427   \n",
       "...                                  ...   \n",
       "11148                           1.256981   \n",
       "11149                           1.385641   \n",
       "11150                           1.256981   \n",
       "11151                           1.118034   \n",
       "11152                           2.828427   \n",
       "\n",
       "       job_duration_in_current_person_level  job_duration_in_current_branch  \\\n",
       "0                                  1.352775                        1.732051   \n",
       "1                                  1.292285                        1.039230   \n",
       "2                                  2.308679                        1.780449   \n",
       "3                                  1.000000                        1.385641   \n",
       "4                                  2.828427                        0.707107   \n",
       "...                                     ...                             ...   \n",
       "11148                              1.256981                        1.224745   \n",
       "11149                              1.385641                        1.802776   \n",
       "11150                              1.256981                        1.385641   \n",
       "11151                              1.118034                        0.000000   \n",
       "11152                              2.121320                        1.473092   \n",
       "\n",
       "        age  number_of_dependences  year_graduated  \\\n",
       "0      1985                      1            2011   \n",
       "1      1989                      0            2007   \n",
       "2      1970                      1            1989   \n",
       "3      1967                      2            1987   \n",
       "4      1965                      3            1985   \n",
       "...     ...                    ...             ...   \n",
       "11148  1986                      1            2016   \n",
       "11149  1988                      2            2015   \n",
       "11150  1991                      0            2017   \n",
       "11151  1987                      1            2012   \n",
       "11152  1980                      2            2009   \n",
       "\n",
       "       job_duration_from_training  branch_rotation  job_rotation  \\\n",
       "0                               4                2             3   \n",
       "1                               4                4             3   \n",
       "2                              28               10             9   \n",
       "3                              29               11             6   \n",
       "4                              30                9             8   \n",
       "...                           ...              ...           ...   \n",
       "11148                           4                3             3   \n",
       "11149                           3                1             2   \n",
       "11150                           2                1             2   \n",
       "11151                           5                5             4   \n",
       "11152                          14                5             7   \n",
       "\n",
       "       assign_of_otherposition  ...    1    2    3    4    5    6    7    8  \\\n",
       "0                            2  ...  1.0  0.0  0.0  1.0  0.0  0.0  0.0  1.0   \n",
       "1                            0  ...  1.0  0.0  0.0  1.0  0.0  0.0  0.0  1.0   \n",
       "2                            6  ...  0.0  1.0  0.0  0.0  0.0  1.0  1.0  0.0   \n",
       "3                            0  ...  0.0  1.0  0.0  1.0  0.0  0.0  0.0  1.0   \n",
       "4                            2  ...  0.0  1.0  0.0  1.0  0.0  0.0  0.0  1.0   \n",
       "...                        ...  ...  ...  ...  ...  ...  ...  ...  ...  ...   \n",
       "11148                        0  ...  1.0  0.0  0.0  1.0  0.0  0.0  0.0  1.0   \n",
       "11149                        0  ...  1.0  0.0  0.0  0.0  1.0  0.0  1.0  0.0   \n",
       "11150                        0  ...  1.0  0.0  0.0  0.0  1.0  0.0  0.0  1.0   \n",
       "11151                        0  ...  1.0  0.0  0.0  1.0  0.0  0.0  1.0  0.0   \n",
       "11152                        0  ...  1.0  0.0  0.0  0.0  1.0  0.0  0.0  1.0   \n",
       "\n",
       "         9   10  \n",
       "0      0.0  1.0  \n",
       "1      0.0  1.0  \n",
       "2      0.0  1.0  \n",
       "3      0.0  1.0  \n",
       "4      0.0  1.0  \n",
       "...    ...  ...  \n",
       "11148  0.0  1.0  \n",
       "11149  0.0  1.0  \n",
       "11150  0.0  1.0  \n",
       "11151  0.0  1.0  \n",
       "11152  0.0  1.0  \n",
       "\n",
       "[11151 rows x 24 columns]"
      ]
     },
     "execution_count": 26,
     "metadata": {},
     "output_type": "execute_result"
    }
   ],
   "source": [
    "X_train_full.drop([10334,6261], axis=0)"
   ]
  },
  {
   "cell_type": "code",
   "execution_count": 27,
   "metadata": {
    "execution": {
     "iopub.execute_input": "2021-01-18T19:33:40.678985Z",
     "iopub.status.busy": "2021-01-18T19:33:40.677911Z",
     "iopub.status.idle": "2021-01-18T19:33:48.105926Z",
     "shell.execute_reply": "2021-01-18T19:33:48.106559Z"
    },
    "papermill": {
     "duration": 7.458094,
     "end_time": "2021-01-18T19:33:48.106723",
     "exception": false,
     "start_time": "2021-01-18T19:33:40.648629",
     "status": "completed"
    },
    "tags": []
   },
   "outputs": [
    {
     "name": "stdout",
     "output_type": "stream",
     "text": [
      "Average MAE score: 0.5483366063185929\n"
     ]
    }
   ],
   "source": [
    "from sklearn.model_selection import cross_val_score\n",
    "scores = cross_val_score(model, X_train_full, y_train, cv=5, scoring=\"roc_auc\", n_jobs=-1)\n",
    "\n",
    "print(\"Average MAE score:\", scores.mean())"
   ]
  },
  {
   "cell_type": "code",
   "execution_count": 28,
   "metadata": {
    "execution": {
     "iopub.execute_input": "2021-01-18T19:33:48.159680Z",
     "iopub.status.busy": "2021-01-18T19:33:48.159141Z",
     "iopub.status.idle": "2021-01-18T19:33:48.163146Z",
     "shell.execute_reply": "2021-01-18T19:33:48.162689Z"
    },
    "papermill": {
     "duration": 0.032046,
     "end_time": "2021-01-18T19:33:48.163253",
     "exception": false,
     "start_time": "2021-01-18T19:33:48.131207",
     "status": "completed"
    },
    "tags": []
   },
   "outputs": [
    {
     "name": "stdout",
     "output_type": "stream",
     "text": [
      "11153\n"
     ]
    }
   ],
   "source": [
    "print(len(X_train_full))"
   ]
  },
  {
   "cell_type": "code",
   "execution_count": 29,
   "metadata": {
    "execution": {
     "iopub.execute_input": "2021-01-18T19:33:48.214664Z",
     "iopub.status.busy": "2021-01-18T19:33:48.214022Z",
     "iopub.status.idle": "2021-01-18T19:33:48.216437Z",
     "shell.execute_reply": "2021-01-18T19:33:48.216964Z"
    },
    "papermill": {
     "duration": 0.029644,
     "end_time": "2021-01-18T19:33:48.217058",
     "exception": false,
     "start_time": "2021-01-18T19:33:48.187414",
     "status": "completed"
    },
    "tags": []
   },
   "outputs": [],
   "source": [
    "# data_check_x = X_train_full\n",
    "# data_check_y = y_train"
   ]
  },
  {
   "cell_type": "code",
   "execution_count": 30,
   "metadata": {
    "execution": {
     "iopub.execute_input": "2021-01-18T19:33:48.284730Z",
     "iopub.status.busy": "2021-01-18T19:33:48.283897Z",
     "iopub.status.idle": "2021-01-18T19:33:48.291945Z",
     "shell.execute_reply": "2021-01-18T19:33:48.291260Z"
    },
    "papermill": {
     "duration": 0.050551,
     "end_time": "2021-01-18T19:33:48.292067",
     "exception": false,
     "start_time": "2021-01-18T19:33:48.241516",
     "status": "completed"
    },
    "tags": []
   },
   "outputs": [],
   "source": [
    "# import time\n",
    "# start_time = time.time()\n",
    "\n",
    "# akurasi = []\n",
    "# iteration = np.arange(0,11153)\n",
    "# for i in iteration:\n",
    "#     data_check_x = data_check_x.drop([i], axis=0)\n",
    "#     data_check_y = data_check_y.drop([i], axis=0)\n",
    "#     scores = cross_val_score(model, data_check_x, data_check_y,\n",
    "#                               cv=4)\n",
    "#     ava_score = scores.mean()\n",
    "#     akurasi.append(ava_score)\n",
    "#     data_check_x = X_train_full\n",
    "#     data_check_y = y_train\n",
    "\n",
    "# plt.figure(figsize=(20,10))\n",
    "# plt.scatter(iteration,akurasi)\n",
    "\n",
    "# print(\"--- %s seconds ---\" % (time.time() - start_time))"
   ]
  },
  {
   "cell_type": "code",
   "execution_count": 31,
   "metadata": {
    "execution": {
     "iopub.execute_input": "2021-01-18T19:33:48.352734Z",
     "iopub.status.busy": "2021-01-18T19:33:48.352116Z",
     "iopub.status.idle": "2021-01-18T19:33:48.355096Z",
     "shell.execute_reply": "2021-01-18T19:33:48.354675Z"
    },
    "papermill": {
     "duration": 0.030325,
     "end_time": "2021-01-18T19:33:48.355179",
     "exception": false,
     "start_time": "2021-01-18T19:33:48.324854",
     "status": "completed"
    },
    "tags": []
   },
   "outputs": [],
   "source": [
    "# data = {'iteration':  iteration,\n",
    "#         'akurasi': akurasi}\n",
    "\n",
    "# df = pd.DataFrame (data, columns = ['iteration','akurasi'])"
   ]
  },
  {
   "cell_type": "code",
   "execution_count": 32,
   "metadata": {
    "execution": {
     "iopub.execute_input": "2021-01-18T19:33:48.413892Z",
     "iopub.status.busy": "2021-01-18T19:33:48.413118Z",
     "iopub.status.idle": "2021-01-18T19:33:50.192505Z",
     "shell.execute_reply": "2021-01-18T19:33:50.193166Z"
    },
    "papermill": {
     "duration": 1.808713,
     "end_time": "2021-01-18T19:33:50.193318",
     "exception": false,
     "start_time": "2021-01-18T19:33:48.384605",
     "status": "completed"
    },
    "tags": []
   },
   "outputs": [],
   "source": [
    "model.fit(X_train_full, y_train)\n",
    "preds_test = model.predict_proba(X_test_full)[:,1]"
   ]
  },
  {
   "cell_type": "code",
   "execution_count": 33,
   "metadata": {
    "execution": {
     "iopub.execute_input": "2021-01-18T19:33:50.264778Z",
     "iopub.status.busy": "2021-01-18T19:33:50.263974Z",
     "iopub.status.idle": "2021-01-18T19:33:50.348815Z",
     "shell.execute_reply": "2021-01-18T19:33:50.349435Z"
    },
    "papermill": {
     "duration": 0.123442,
     "end_time": "2021-01-18T19:33:50.349566",
     "exception": false,
     "start_time": "2021-01-18T19:33:50.226124",
     "status": "completed"
    },
    "tags": []
   },
   "outputs": [
    {
     "name": "stderr",
     "output_type": "stream",
     "text": [
      "/opt/conda/lib/python3.7/site-packages/ipykernel_launcher.py:1: SettingWithCopyWarning: \n",
      "A value is trying to be set on a copy of a slice from a DataFrame.\n",
      "Try using .loc[row_indexer,col_indexer] = value instead\n",
      "\n",
      "See the caveats in the documentation: https://pandas.pydata.org/pandas-docs/stable/user_guide/indexing.html#returning-a-view-versus-a-copy\n",
      "  \"\"\"Entry point for launching an IPython kernel.\n"
     ]
    },
    {
     "data": {
      "text/html": [
       "<div>\n",
       "<style scoped>\n",
       "    .dataframe tbody tr th:only-of-type {\n",
       "        vertical-align: middle;\n",
       "    }\n",
       "\n",
       "    .dataframe tbody tr th {\n",
       "        vertical-align: top;\n",
       "    }\n",
       "\n",
       "    .dataframe thead th {\n",
       "        text-align: right;\n",
       "    }\n",
       "</style>\n",
       "<table border=\"1\" class=\"dataframe\">\n",
       "  <thead>\n",
       "    <tr style=\"text-align: right;\">\n",
       "      <th></th>\n",
       "      <th>job_duration_in_current_job_level</th>\n",
       "      <th>job_duration_in_current_person_level</th>\n",
       "      <th>job_duration_in_current_branch</th>\n",
       "      <th>age</th>\n",
       "      <th>number_of_dependences</th>\n",
       "      <th>year_graduated</th>\n",
       "      <th>job_duration_from_training</th>\n",
       "      <th>branch_rotation</th>\n",
       "      <th>job_rotation</th>\n",
       "      <th>assign_of_otherposition</th>\n",
       "      <th>...</th>\n",
       "      <th>1</th>\n",
       "      <th>2</th>\n",
       "      <th>3</th>\n",
       "      <th>4</th>\n",
       "      <th>5</th>\n",
       "      <th>6</th>\n",
       "      <th>7</th>\n",
       "      <th>8</th>\n",
       "      <th>9</th>\n",
       "      <th>10</th>\n",
       "    </tr>\n",
       "    <tr>\n",
       "      <th>index</th>\n",
       "      <th></th>\n",
       "      <th></th>\n",
       "      <th></th>\n",
       "      <th></th>\n",
       "      <th></th>\n",
       "      <th></th>\n",
       "      <th></th>\n",
       "      <th></th>\n",
       "      <th></th>\n",
       "      <th></th>\n",
       "      <th></th>\n",
       "      <th></th>\n",
       "      <th></th>\n",
       "      <th></th>\n",
       "      <th></th>\n",
       "      <th></th>\n",
       "      <th></th>\n",
       "      <th></th>\n",
       "      <th></th>\n",
       "      <th></th>\n",
       "      <th></th>\n",
       "    </tr>\n",
       "  </thead>\n",
       "  <tbody>\n",
       "    <tr>\n",
       "      <th>0</th>\n",
       "      <td>1.256981</td>\n",
       "      <td>1.256981</td>\n",
       "      <td>0.707107</td>\n",
       "      <td>1988</td>\n",
       "      <td>0</td>\n",
       "      <td>2009</td>\n",
       "      <td>6</td>\n",
       "      <td>4</td>\n",
       "      <td>2</td>\n",
       "      <td>6</td>\n",
       "      <td>...</td>\n",
       "      <td>1.0</td>\n",
       "      <td>0.0</td>\n",
       "      <td>0.0</td>\n",
       "      <td>1.0</td>\n",
       "      <td>0.0</td>\n",
       "      <td>0.0</td>\n",
       "      <td>1.0</td>\n",
       "      <td>0.0</td>\n",
       "      <td>1.0</td>\n",
       "      <td>0.0</td>\n",
       "    </tr>\n",
       "    <tr>\n",
       "      <th>1</th>\n",
       "      <td>1.224745</td>\n",
       "      <td>1.224745</td>\n",
       "      <td>1.256981</td>\n",
       "      <td>1991</td>\n",
       "      <td>0</td>\n",
       "      <td>2014</td>\n",
       "      <td>2</td>\n",
       "      <td>2</td>\n",
       "      <td>2</td>\n",
       "      <td>0</td>\n",
       "      <td>...</td>\n",
       "      <td>1.0</td>\n",
       "      <td>0.0</td>\n",
       "      <td>0.0</td>\n",
       "      <td>0.0</td>\n",
       "      <td>1.0</td>\n",
       "      <td>0.0</td>\n",
       "      <td>0.0</td>\n",
       "      <td>1.0</td>\n",
       "      <td>1.0</td>\n",
       "      <td>0.0</td>\n",
       "    </tr>\n",
       "    <tr>\n",
       "      <th>2</th>\n",
       "      <td>0.500000</td>\n",
       "      <td>0.500000</td>\n",
       "      <td>1.081665</td>\n",
       "      <td>1989</td>\n",
       "      <td>1</td>\n",
       "      <td>2011</td>\n",
       "      <td>4</td>\n",
       "      <td>2</td>\n",
       "      <td>2</td>\n",
       "      <td>0</td>\n",
       "      <td>...</td>\n",
       "      <td>1.0</td>\n",
       "      <td>0.0</td>\n",
       "      <td>0.0</td>\n",
       "      <td>1.0</td>\n",
       "      <td>0.0</td>\n",
       "      <td>0.0</td>\n",
       "      <td>0.0</td>\n",
       "      <td>1.0</td>\n",
       "      <td>0.0</td>\n",
       "      <td>1.0</td>\n",
       "    </tr>\n",
       "    <tr>\n",
       "      <th>3</th>\n",
       "      <td>1.256981</td>\n",
       "      <td>1.256981</td>\n",
       "      <td>1.802776</td>\n",
       "      <td>1990</td>\n",
       "      <td>1</td>\n",
       "      <td>2014</td>\n",
       "      <td>3</td>\n",
       "      <td>1</td>\n",
       "      <td>3</td>\n",
       "      <td>0</td>\n",
       "      <td>...</td>\n",
       "      <td>1.0</td>\n",
       "      <td>0.0</td>\n",
       "      <td>0.0</td>\n",
       "      <td>1.0</td>\n",
       "      <td>0.0</td>\n",
       "      <td>0.0</td>\n",
       "      <td>0.0</td>\n",
       "      <td>1.0</td>\n",
       "      <td>0.0</td>\n",
       "      <td>1.0</td>\n",
       "    </tr>\n",
       "    <tr>\n",
       "      <th>4</th>\n",
       "      <td>1.352775</td>\n",
       "      <td>1.352775</td>\n",
       "      <td>1.224745</td>\n",
       "      <td>1985</td>\n",
       "      <td>0</td>\n",
       "      <td>2007</td>\n",
       "      <td>5</td>\n",
       "      <td>3</td>\n",
       "      <td>2</td>\n",
       "      <td>0</td>\n",
       "      <td>...</td>\n",
       "      <td>1.0</td>\n",
       "      <td>0.0</td>\n",
       "      <td>0.0</td>\n",
       "      <td>0.0</td>\n",
       "      <td>1.0</td>\n",
       "      <td>0.0</td>\n",
       "      <td>1.0</td>\n",
       "      <td>0.0</td>\n",
       "      <td>0.0</td>\n",
       "      <td>1.0</td>\n",
       "    </tr>\n",
       "    <tr>\n",
       "      <th>...</th>\n",
       "      <td>...</td>\n",
       "      <td>...</td>\n",
       "      <td>...</td>\n",
       "      <td>...</td>\n",
       "      <td>...</td>\n",
       "      <td>...</td>\n",
       "      <td>...</td>\n",
       "      <td>...</td>\n",
       "      <td>...</td>\n",
       "      <td>...</td>\n",
       "      <td>...</td>\n",
       "      <td>...</td>\n",
       "      <td>...</td>\n",
       "      <td>...</td>\n",
       "      <td>...</td>\n",
       "      <td>...</td>\n",
       "      <td>...</td>\n",
       "      <td>...</td>\n",
       "      <td>...</td>\n",
       "      <td>...</td>\n",
       "      <td>...</td>\n",
       "    </tr>\n",
       "    <tr>\n",
       "      <th>5995</th>\n",
       "      <td>1.292285</td>\n",
       "      <td>1.292285</td>\n",
       "      <td>0.707107</td>\n",
       "      <td>1988</td>\n",
       "      <td>0</td>\n",
       "      <td>2015</td>\n",
       "      <td>2</td>\n",
       "      <td>2</td>\n",
       "      <td>2</td>\n",
       "      <td>0</td>\n",
       "      <td>...</td>\n",
       "      <td>1.0</td>\n",
       "      <td>0.0</td>\n",
       "      <td>0.0</td>\n",
       "      <td>0.0</td>\n",
       "      <td>1.0</td>\n",
       "      <td>0.0</td>\n",
       "      <td>0.0</td>\n",
       "      <td>1.0</td>\n",
       "      <td>0.0</td>\n",
       "      <td>1.0</td>\n",
       "    </tr>\n",
       "    <tr>\n",
       "      <th>5996</th>\n",
       "      <td>1.352775</td>\n",
       "      <td>1.352775</td>\n",
       "      <td>1.581139</td>\n",
       "      <td>1989</td>\n",
       "      <td>1</td>\n",
       "      <td>2011</td>\n",
       "      <td>5</td>\n",
       "      <td>3</td>\n",
       "      <td>2</td>\n",
       "      <td>7</td>\n",
       "      <td>...</td>\n",
       "      <td>1.0</td>\n",
       "      <td>0.0</td>\n",
       "      <td>0.0</td>\n",
       "      <td>1.0</td>\n",
       "      <td>0.0</td>\n",
       "      <td>0.0</td>\n",
       "      <td>0.0</td>\n",
       "      <td>1.0</td>\n",
       "      <td>0.0</td>\n",
       "      <td>1.0</td>\n",
       "    </tr>\n",
       "    <tr>\n",
       "      <th>5997</th>\n",
       "      <td>1.385641</td>\n",
       "      <td>1.385641</td>\n",
       "      <td>1.224745</td>\n",
       "      <td>1991</td>\n",
       "      <td>0</td>\n",
       "      <td>2013</td>\n",
       "      <td>3</td>\n",
       "      <td>2</td>\n",
       "      <td>3</td>\n",
       "      <td>0</td>\n",
       "      <td>...</td>\n",
       "      <td>1.0</td>\n",
       "      <td>0.0</td>\n",
       "      <td>0.0</td>\n",
       "      <td>1.0</td>\n",
       "      <td>0.0</td>\n",
       "      <td>0.0</td>\n",
       "      <td>0.0</td>\n",
       "      <td>1.0</td>\n",
       "      <td>0.0</td>\n",
       "      <td>1.0</td>\n",
       "    </tr>\n",
       "    <tr>\n",
       "      <th>5998</th>\n",
       "      <td>1.385641</td>\n",
       "      <td>1.385641</td>\n",
       "      <td>0.648074</td>\n",
       "      <td>1980</td>\n",
       "      <td>2</td>\n",
       "      <td>2003</td>\n",
       "      <td>14</td>\n",
       "      <td>7</td>\n",
       "      <td>6</td>\n",
       "      <td>8</td>\n",
       "      <td>...</td>\n",
       "      <td>0.0</td>\n",
       "      <td>1.0</td>\n",
       "      <td>0.0</td>\n",
       "      <td>1.0</td>\n",
       "      <td>0.0</td>\n",
       "      <td>0.0</td>\n",
       "      <td>0.0</td>\n",
       "      <td>1.0</td>\n",
       "      <td>0.0</td>\n",
       "      <td>1.0</td>\n",
       "    </tr>\n",
       "    <tr>\n",
       "      <th>5999</th>\n",
       "      <td>1.352775</td>\n",
       "      <td>1.352775</td>\n",
       "      <td>0.707107</td>\n",
       "      <td>1987</td>\n",
       "      <td>1</td>\n",
       "      <td>2008</td>\n",
       "      <td>5</td>\n",
       "      <td>4</td>\n",
       "      <td>3</td>\n",
       "      <td>2</td>\n",
       "      <td>...</td>\n",
       "      <td>1.0</td>\n",
       "      <td>0.0</td>\n",
       "      <td>0.0</td>\n",
       "      <td>1.0</td>\n",
       "      <td>0.0</td>\n",
       "      <td>0.0</td>\n",
       "      <td>0.0</td>\n",
       "      <td>1.0</td>\n",
       "      <td>0.0</td>\n",
       "      <td>1.0</td>\n",
       "    </tr>\n",
       "  </tbody>\n",
       "</table>\n",
       "<p>6000 rows × 24 columns</p>\n",
       "</div>"
      ],
      "text/plain": [
       "       job_duration_in_current_job_level  \\\n",
       "index                                      \n",
       "0                               1.256981   \n",
       "1                               1.224745   \n",
       "2                               0.500000   \n",
       "3                               1.256981   \n",
       "4                               1.352775   \n",
       "...                                  ...   \n",
       "5995                            1.292285   \n",
       "5996                            1.352775   \n",
       "5997                            1.385641   \n",
       "5998                            1.385641   \n",
       "5999                            1.352775   \n",
       "\n",
       "       job_duration_in_current_person_level  job_duration_in_current_branch  \\\n",
       "index                                                                         \n",
       "0                                  1.256981                        0.707107   \n",
       "1                                  1.224745                        1.256981   \n",
       "2                                  0.500000                        1.081665   \n",
       "3                                  1.256981                        1.802776   \n",
       "4                                  1.352775                        1.224745   \n",
       "...                                     ...                             ...   \n",
       "5995                               1.292285                        0.707107   \n",
       "5996                               1.352775                        1.581139   \n",
       "5997                               1.385641                        1.224745   \n",
       "5998                               1.385641                        0.648074   \n",
       "5999                               1.352775                        0.707107   \n",
       "\n",
       "        age  number_of_dependences  year_graduated  \\\n",
       "index                                                \n",
       "0      1988                      0            2009   \n",
       "1      1991                      0            2014   \n",
       "2      1989                      1            2011   \n",
       "3      1990                      1            2014   \n",
       "4      1985                      0            2007   \n",
       "...     ...                    ...             ...   \n",
       "5995   1988                      0            2015   \n",
       "5996   1989                      1            2011   \n",
       "5997   1991                      0            2013   \n",
       "5998   1980                      2            2003   \n",
       "5999   1987                      1            2008   \n",
       "\n",
       "       job_duration_from_training  branch_rotation  job_rotation  \\\n",
       "index                                                              \n",
       "0                               6                4             2   \n",
       "1                               2                2             2   \n",
       "2                               4                2             2   \n",
       "3                               3                1             3   \n",
       "4                               5                3             2   \n",
       "...                           ...              ...           ...   \n",
       "5995                            2                2             2   \n",
       "5996                            5                3             2   \n",
       "5997                            3                2             3   \n",
       "5998                           14                7             6   \n",
       "5999                            5                4             3   \n",
       "\n",
       "       assign_of_otherposition  ...    1    2    3    4    5    6    7    8  \\\n",
       "index                           ...                                           \n",
       "0                            6  ...  1.0  0.0  0.0  1.0  0.0  0.0  1.0  0.0   \n",
       "1                            0  ...  1.0  0.0  0.0  0.0  1.0  0.0  0.0  1.0   \n",
       "2                            0  ...  1.0  0.0  0.0  1.0  0.0  0.0  0.0  1.0   \n",
       "3                            0  ...  1.0  0.0  0.0  1.0  0.0  0.0  0.0  1.0   \n",
       "4                            0  ...  1.0  0.0  0.0  0.0  1.0  0.0  1.0  0.0   \n",
       "...                        ...  ...  ...  ...  ...  ...  ...  ...  ...  ...   \n",
       "5995                         0  ...  1.0  0.0  0.0  0.0  1.0  0.0  0.0  1.0   \n",
       "5996                         7  ...  1.0  0.0  0.0  1.0  0.0  0.0  0.0  1.0   \n",
       "5997                         0  ...  1.0  0.0  0.0  1.0  0.0  0.0  0.0  1.0   \n",
       "5998                         8  ...  0.0  1.0  0.0  1.0  0.0  0.0  0.0  1.0   \n",
       "5999                         2  ...  1.0  0.0  0.0  1.0  0.0  0.0  0.0  1.0   \n",
       "\n",
       "         9   10  \n",
       "index            \n",
       "0      1.0  0.0  \n",
       "1      1.0  0.0  \n",
       "2      0.0  1.0  \n",
       "3      0.0  1.0  \n",
       "4      0.0  1.0  \n",
       "...    ...  ...  \n",
       "5995   0.0  1.0  \n",
       "5996   0.0  1.0  \n",
       "5997   0.0  1.0  \n",
       "5998   0.0  1.0  \n",
       "5999   0.0  1.0  \n",
       "\n",
       "[6000 rows x 24 columns]"
      ]
     },
     "execution_count": 33,
     "metadata": {},
     "output_type": "execute_result"
    }
   ],
   "source": [
    "X_test_full['index'] = X_test_full.index\n",
    "X_test_full.set_index('index')"
   ]
  },
  {
   "cell_type": "code",
   "execution_count": 34,
   "metadata": {
    "execution": {
     "iopub.execute_input": "2021-01-18T19:33:50.416298Z",
     "iopub.status.busy": "2021-01-18T19:33:50.415756Z",
     "iopub.status.idle": "2021-01-18T19:33:50.776154Z",
     "shell.execute_reply": "2021-01-18T19:33:50.775615Z"
    },
    "papermill": {
     "duration": 0.391888,
     "end_time": "2021-01-18T19:33:50.776259",
     "exception": false,
     "start_time": "2021-01-18T19:33:50.384371",
     "status": "completed"
    },
    "tags": []
   },
   "outputs": [],
   "source": [
    "output = pd.DataFrame({'index': X_test_full.index,\n",
    "                        'Best Performance': preds_test})\n",
    "output.to_csv('submission.csv', index=False)"
   ]
  }
 ],
 "metadata": {
  "kernelspec": {
   "display_name": "Python 3",
   "language": "python",
   "name": "python3"
  },
  "language_info": {
   "codemirror_mode": {
    "name": "ipython",
    "version": 3
   },
   "file_extension": ".py",
   "mimetype": "text/x-python",
   "name": "python",
   "nbconvert_exporter": "python",
   "pygments_lexer": "ipython3",
   "version": "3.7.6"
  },
  "papermill": {
   "duration": 104.584508,
   "end_time": "2021-01-18T19:33:51.210749",
   "environment_variables": {},
   "exception": null,
   "input_path": "__notebook__.ipynb",
   "output_path": "__notebook__.ipynb",
   "parameters": {},
   "start_time": "2021-01-18T19:32:06.626241",
   "version": "2.1.0"
  }
 },
 "nbformat": 4,
 "nbformat_minor": 4
}
